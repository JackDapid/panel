{
 "cells": [
  {
   "cell_type": "markdown",
   "metadata": {},
   "source": [
    "# JSME Molecule Editor\n",
    "\n",
    "![Image](https://www.researchgate.net/publication/236928896/figure/fig2/AS:281272116105216@1444071906113/The-JSME-editor-with-an-open-substituent-menu.png)\n",
    "\n",
    "\n",
    "## Resources\n",
    "\n",
    "- [JSME Home](https://jsme-editor.github.io/)\n",
    "- [JSME Test Page](https://jsme-editor.github.io/dist/JSME_test.html)\n",
    "- [JSME on NPM](https://www.npmjs.com/package/jsme-editor)\n",
    "- [JSME on UNPKG](http://127.0.0.1:8888/?token=379da3a28c5774b5b1dd4965727fceaed663ccf63543ccb1)"
   ]
  },
  {
   "cell_type": "markdown",
   "metadata": {},
   "source": [
    "## Javascript Experimentation"
   ]
  },
  {
   "cell_type": "code",
   "execution_count": null,
   "metadata": {},
   "outputs": [],
   "source": [
    "%%html\n",
    "<script>\n",
    "function jsmeOnLoad(){\n",
    "    console.log(\"jsme loaded\")\n",
    "}\n",
    "</script>\n",
    "<script src=\"https://unpkg.com/jsme-editor@0.8.2/jsme.nocache.js\"></script>"
   ]
  },
  {
   "cell_type": "code",
   "execution_count": null,
   "metadata": {},
   "outputs": [],
   "source": [
    "%%html\n",
    "<div id=\"appletContainer\"></div>"
   ]
  },
  {
   "cell_type": "code",
   "execution_count": null,
   "metadata": {},
   "outputs": [],
   "source": [
    "%%javascript\n",
    "function create_editor(id, jme){\n",
    "    element = document.getElementById(id)\n",
    "    element.jsmeApplet =  new JSApplet.JSME(id, \"600px\", \"440px\", {\n",
    "        //optional parameters\n",
    "        \"options\": \"query,hydrogens,fullScreenIcon\",\n",
    "        \"jme\": jme // JME mol format\n",
    "    });\n",
    "}\n",
    "var id = \"appletContainer\"\n",
    "var jme = \"20 19 C 6.61 -7.11 C 7.82 -7.81 O 6.61 -5.71 O 5.40 -7.81 N 7.82 -9.21 C 9.03 -7.11 C 10.25 -7.81 C 11.46 -7.11 N 12.67 -7.81 O 11.46 -5.71 C 13.88 -7.11 C 15.10 -7.81 O 15.10 -9.21 N 16.31 -7.11 C 17.52 -7.81 C 18.73 -7.11 C 13.88 -5.71 O 19.94 -7.81 O 18.73 -5.71 S 15.09 -5.01 1 2 1 1 3 2 1 4 1 2 5 -2 2 6 1 6 7 1 7 8 1 8 9 1 8 10 2 9 11 1 11 12 1 12 13 2 12 14 1 14 15 1 15 16 1 11 17 -1 16 18 1 16 19 2 17 20 1\";\n",
    "\n",
    "create_editor(id, jme)"
   ]
  },
  {
   "cell_type": "markdown",
   "metadata": {},
   "source": [
    "## How would I load the .js library above with Panel?"
   ]
  },
  {
   "cell_type": "markdown",
   "metadata": {},
   "source": [
    "## Panel Component Using the `ReactiveHTML` component"
   ]
  },
  {
   "cell_type": "code",
   "execution_count": null,
   "metadata": {},
   "outputs": [],
   "source": [
    "import panel as pn\n",
    "from panel.reactive import ReactiveHTML\n",
    "import param\n",
    "pn.extension()"
   ]
  },
  {
   "cell_type": "code",
   "execution_count": null,
   "metadata": {},
   "outputs": [],
   "source": [
    "JME = \"\"\"20 19 C 6.61 -7.11 C 7.82 -7.81 O 6.61 -5.71 O 5.40 -7.81 N 7.82 -9.21 C 9.03 -7.11 C 10.25 -7.81 C 11.46 -7.11 N 12.67 -7.81 O 11.46 -5.71 C 13.88 -7.11 C 15.10 -7.81 O 15.10 -9.21 N 16.31 -7.11 C 17.52 -7.81 C 18.73 -7.11 C 13.88 -5.71 O 19.94 -7.81 O 18.73 -5.71 S 15.09 -5.01 1 2 1 1 3 2 1 4 1 2 5 -2 2 6 1 6 7 1 7 8 1 8 9 1 8 10 2 9 11 1 11 12 1 12 13 2 12 14 1 14 15 1 15 16 1 11 17 -1 16 18 1 16 19 2 17 20 1\"\"\""
   ]
  },
  {
   "cell_type": "code",
   "execution_count": null,
   "metadata": {},
   "outputs": [],
   "source": [
    "js = \"\"\"\n",
    "function create_editor(id, jme){\n",
    "    console.log(id, jme)\n",
    "    element = document.getElementById(id)\n",
    "    element.jsmeApplet =  new JSApplet.JSME(id, \"600px\", \"440px\", {\n",
    "        //optional parameters\n",
    "        \"options\": \"query,hydrogens,fullScreenIcon\",\n",
    "        \"jme\": jme // JME mol format\n",
    "    });\n",
    "}\n",
    "\"\"\"\n",
    "\n",
    "js_panel = pn.pane.HTML(\n",
    "    \"<script>\"+js+\"</script>\",\n",
    "    width=0, height=0, margin=0, sizing_mode=\"fixed\"\n",
    ")\n",
    "script = \"\"\"\n",
    "<script>\n",
    "create_editor(\"div-${id}\", \"${jme}\")\n",
    "</script>\n",
    "\"\"\"\n",
    "\n",
    "class JSMEEditor(ReactiveHTML):\n",
    "\n",
    "    jme = param.String(JME)\n",
    "\n",
    "    _html = '<div id=\"div-${id}\"></div>' + script\n",
    "\n",
    "    _dom_events = {}\n",
    "\n",
    "editor = JSMEEditor(height=440, width=600)\n",
    "editor_settings = pn.Param(editor, parameters=[\"jme\"])\n",
    "pn.Row(js_panel, editor_settings, editor)"
   ]
  },
  {
   "cell_type": "markdown",
   "metadata": {},
   "source": [
    "## How do I make a reactive component from this.\n",
    "\n",
    "I would like to be able to get and set the jme parameter as well as other paramters. I can for example get the molFile via the below. Note the id should be updated."
   ]
  },
  {
   "cell_type": "code",
   "execution_count": null,
   "metadata": {},
   "outputs": [],
   "source": [
    "%%javascript\n",
    "let id = \"div-1124\"\n",
    "element = document.getElementById(id)\n",
    "console.log(element.jsmeApplet.molFile())"
   ]
  },
  {
   "cell_type": "markdown",
   "metadata": {},
   "source": [
    "## Next Steps\n",
    "\n",
    "- Implement some of the .js functionality from below script\n",
    "- Create a Panel app using the component. Maybe with inspiration from this Streamlit example https://iwatobipen.wordpress.com/2020/12/30/embed-molecular-editor-into-streamlit-app-streamlit-chemoinformatics-rdkit/\n",
    "- Implement a React version using the [jsme-react](https://github.com/DouglasConnect/jsme-react) component to show the pros and cons of this approach"
   ]
  },
  {
   "cell_type": "markdown",
   "metadata": {},
   "source": [
    "# Script\n",
    "\n",
    "```html\n",
    "<script>\n",
    "\n",
    "        //this function will be called after the JavaScriptApplet code has been loaded.\n",
    "        function jsmeOnLoad() {\n",
    "            // glutathione\n",
    "            var startingStructure = \"20 19 C 6.61 -7.11 C 7.82 -7.81 O 6.61 -5.71 O 5.40 -7.81 N 7.82 -9.21 C 9.03 -7.11 C 10.25 -7.81 C 11.46 -7.11 N 12.67 -7.81 O 11.46 -5.71 C 13.88 -7.11 C 15.10 -7.81 O 15.10 -9.21 N 16.31 -7.11 C 17.52 -7.81 C 18.73 -7.11 C 13.88 -5.71 O 19.94 -7.81 O 18.73 -5.71 S 15.09 -5.01 1 2 1 1 3 2 1 4 1 2 5 -2 2 6 1 6 7 1 7 8 1 8 9 1 8 10 2 9 11 1 11 12 1 12 13 2 12 14 1 14 15 1 15 16 1 11 17 -1 16 18 1 16 19 2 17 20 1\";\n",
    "            //Instantiate a new JSME:\n",
    "            //arguments: HTML id, width, height (must be string not number!)\n",
    "\n",
    "            jsmeApplet = new JSApplet.JSME(\"appletContainer\", \"600px\", \"440px\", {\n",
    "                //optional parameters\n",
    "                \"options\": \"query,hydrogens,fullScreenIcon\",\n",
    "                \"jme\": startingStructure // JME mol format\n",
    "            });\n",
    "\n",
    "\n",
    "            //Alternative method: the size is not specified: the applet will use 100% of the space of its parent container \"appletContainer\".\n",
    "            //Be sure that the parent container size > 0, otherwise the applet will not be visible\n",
    "\n",
    "            /*    \tjsmeApplet = new JSApplet.JSME(\"appletContainer\",  {\n",
    "                         //optional parameters\n",
    "                        \"options\" : \"query,hydrogens\",\n",
    "                        \"jme\" : startingStructure\n",
    "                    });\n",
    "             */\n",
    "\n",
    "\n",
    "            //Opera patch: if some applet elements are not displayed, force repaint\n",
    "            //jsmeApplet.deferredRepaint(); //the applet will be repainted after the browser event loop returns\n",
    "            //it is recommended to use it if the JSME is created outside this jsmeOnLoad() function\n",
    "\n",
    "\n",
    "            //jsmeApplet has the same API as the original Java applet\n",
    "            //One can mimic the JME Java applet access to simplify the adaptation of HTML and JavaScript code:\n",
    "            document.JME = jsmeApplet;\n",
    "\n",
    "\n",
    "            //suggestion\n",
    "            //all buttons that access the jsme variable were disabled in the html\n",
    "            //Now enable all buttons that can access the jsme variable since the applet is ready\n",
    "            //example:\n",
    "            //document.getElementById(\"button\").disabled=false;\n",
    "\n",
    "\n",
    "            document.getElementById(\"inchiKeyUrlTextArea\").value = jsmeApplet.getWebSearchInchiKeyBaseUrl();\n",
    "\n",
    "        }\n",
    "\n",
    "\n",
    "        function readMolecule() {\n",
    "            var jme = \"16 17 C 7.37 -8.99 C 7.37 -7.59 C 6.16 -6.89 C 4.95 -7.59 C 4.95 -8.99 C 6.16 -9.69 N 8.58 -6.89 C 8.58 -5.49 C 7.37 -4.79 O 6.16 -5.49 C 9.80 -7.59 O 9.80 -8.99 C 11.01 -6.89 Cl 12.22 -7.59 Cl 11.01 -5.49 C 9.80 -4.79 1 2 1 2 3 2 3 4 1 4 5 2 5 6 1 6 1 2 7 8 1 8 9 1 9 10 1 3 10 1 2 7 1 7 11 1 11 12 2 11 13 1 13 14 1 13 15 1 8 16 1\";\n",
    "            jsmeApplet.readMolecule(jme); // or document.JME.readMolecule(jme);\n",
    "        }\n",
    "\n",
    "        function readMultipart() {\n",
    "            var jme = \"9 9 C 6.68 -7.15 C 5.47 -6.45 C 4.26 -7.15 C 4.26 -8.55 C 5.47 -9.25 C 6.68 -8.55 C 5.47 -5.05 O- 6.68 -4.35 O 4.26 -4.35 1 2 1 2 3 2 3 4 1 4 5 2 5 6 1 6 1 2 2 7 1 7 8 1 7 9 2|1 0 Na+ 12.21 -6.61\";\n",
    "            jsmeApplet.readMolecule(jme) // or document.JME.readMolecule(jme\n",
    "        }\n",
    "\n",
    "        function readReaction() {\n",
    "            var jme = \"3 2 C:1 1.41 -7.12 O:2 1.41 -5.72 Cl 2.63 -7.82 1 2 2 1 3 1|3 2 N:3 5.72 -6.78 C:4 7.12 -6.78 H:5 5.02 -7.99 1 2 1 1 3 1 >> 5 4 C:1 13.51 -6.40 O:2 13.51 -5.00 N:3 14.72 -7.10 C:4 15.94 -6.40 H:5 14.71 -8.50 1 2 2 1 3 1 3 4 1 3 5 1\";\n",
    "            jsmeApplet.readMolecule(jme);\n",
    "        }\n",
    "\n",
    "\n",
    "        function getMolfile(isV3000) {\n",
    "            var data = document.JME.molFile(isV3000);\n",
    "            document.getElementById(\"jme_output\").value = data;\n",
    "\n",
    "        }\n",
    "\n",
    "        function getSmiles() {\n",
    "            var data = document.JME.smiles();\n",
    "            document.getElementById(\"jme_output\").value = data;\n",
    "        }\n",
    "\n",
    "        function getJMEstring() {\n",
    "            var data = document.JME.jmeFile();\n",
    "            document.getElementById(\"jme_output\").value = data;\n",
    "        }\n",
    "\n",
    "        function getMultiSDFstack() {\n",
    "            var data = document.JME.getMultiSDFstack();\n",
    "            var output = \"No multirecords SDF was pasted into the editor \";\n",
    "            if (data.length > 0) {\n",
    "                output = data.join(\"$$$$\\n\") + \"$$$$\\n\";\n",
    "            }\n",
    "            document.getElementById(\"jme_output\").value = output;\n",
    "        }\n",
    "\n",
    "        function readMoleculeFromTextArea() {\n",
    "            var jme = document.getElementById(\"jme_output\").value;\n",
    "            jsmeApplet.readMolecule(jme);\n",
    "        }\n",
    "\n",
    "        function readMOLFromTextArea() {\n",
    "            var mol = document.getElementById(\"jme_output\").value;\n",
    "            jsmeApplet.readMolFile(mol);\n",
    "        }\n",
    "\n",
    "        function readAnyFromTextArea() {\n",
    "            var mol = document.getElementById(\"jme_output\").value;\n",
    "            jsmeApplet.readGenericMolecularInput(mol);\n",
    "        }\n",
    "\n",
    "    </script>\n",
    "```                                                                  "
   ]
  },
  {
   "cell_type": "code",
   "execution_count": null,
   "metadata": {},
   "outputs": [],
   "source": []
  }
 ],
 "metadata": {
  "kernelspec": {
   "display_name": "Python 3",
   "language": "python",
   "name": "python3"
  },
  "language_info": {
   "codemirror_mode": {
    "name": "ipython",
    "version": 3
   },
   "file_extension": ".py",
   "mimetype": "text/x-python",
   "name": "python",
   "nbconvert_exporter": "python",
   "pygments_lexer": "ipython3",
   "version": "3.7.8"
  }
 },
 "nbformat": 4,
 "nbformat_minor": 4
}
